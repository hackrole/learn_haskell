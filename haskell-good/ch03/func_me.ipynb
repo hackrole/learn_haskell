{
 "cells": [
  {
   "cell_type": "code",
   "execution_count": 1,
   "metadata": {
    "collapsed": true
   },
   "outputs": [],
   "source": [
    "-- haskell支持模式匹配,类似erlang. 不如说erlang类似haskell\n",
    "lucky :: Int -> String\n",
    "lucky 7 = \"Lucky Number server!\"\n",
    "lucky x = \"Sorry, you're out of luck. pal!\""
   ]
  },
  {
   "cell_type": "code",
   "execution_count": 2,
   "metadata": {
    "collapsed": true
   },
   "outputs": [],
   "source": [
    "-- 一般需要写一个万能匹配模式.\n",
    "sayMe :: Int -> String\n",
    "sayMe 1 = \"One!\"\n",
    "sayMe 2 = \"Two!\"\n",
    "sayMe 3 = \"Trhee!\"\n",
    "sayMe 4 = \"Four!\"\n",
    "sayMe 5 = \"Five!\"\n",
    "sayMe x = \"Not Between 1 and 5\""
   ]
  },
  {
   "cell_type": "code",
   "execution_count": 3,
   "metadata": {
    "collapsed": true
   },
   "outputs": [],
   "source": [
    "-- 阶乘函数,使用递归定义函数\n",
    "factorial :: Int -> Int\n",
    "factorial 0 = 1\n",
    "factorial n = n * factorial (n -1)"
   ]
  },
  {
   "cell_type": "code",
   "execution_count": 8,
   "metadata": {
    "collapsed": true
   },
   "outputs": [],
   "source": [
    "charName :: Char -> String\n",
    "charName 'a' = \"Albert\"\n",
    "charName 'b' = \"Broseph\"\n",
    "charName 'c' = \"Cecil\""
   ]
  },
  {
   "cell_type": "code",
   "execution_count": 5,
   "metadata": {
    "collapsed": false
   },
   "outputs": [
    {
     "data": {
      "text/plain": [
       "\"Albert\""
      ]
     },
     "metadata": {},
     "output_type": "display_data"
    }
   ],
   "source": [
    "charName 'a'"
   ]
  },
  {
   "cell_type": "code",
   "execution_count": 6,
   "metadata": {
    "collapsed": false
   },
   "outputs": [
    {
     "data": {
      "text/plain": [
       "\"Broseph\""
      ]
     },
     "metadata": {},
     "output_type": "display_data"
    }
   ],
   "source": [
    "charName 'b'"
   ]
  },
  {
   "cell_type": "code",
   "execution_count": 9,
   "metadata": {
    "collapsed": false
   },
   "outputs": [
    {
     "data": {
      "text/plain": [
       "\"Cecil\""
      ]
     },
     "metadata": {},
     "output_type": "display_data"
    }
   ],
   "source": [
    "charName 'c'"
   ]
  },
  {
   "cell_type": "code",
   "execution_count": 10,
   "metadata": {
    "collapsed": true
   },
   "outputs": [],
   "source": [
    "-- this would raise\n",
    "-- charname 'h'"
   ]
  },
  {
   "cell_type": "code",
   "execution_count": 12,
   "metadata": {
    "collapsed": false
   },
   "outputs": [],
   "source": [
    "-- 对tuple使用模式匹配\n",
    "addVectors :: (Double, Double) -> (Double, Double) -> (Double, Double)\n",
    "addVectors (x1, y1) (x2, y2) = (x1 + x2, y1 + y2)"
   ]
  },
  {
   "cell_type": "code",
   "execution_count": 13,
   "metadata": {
    "collapsed": false
   },
   "outputs": [
    {
     "data": {
      "text/html": [
       "<style>/* Styles used for the Hoogle display in the pager */\n",
       ".hoogle-doc {\n",
       "display: block;\n",
       "padding-bottom: 1.3em;\n",
       "padding-left: 0.4em;\n",
       "}\n",
       ".hoogle-code {\n",
       "display: block;\n",
       "font-family: monospace;\n",
       "white-space: pre;\n",
       "}\n",
       ".hoogle-text {\n",
       "display: block;\n",
       "}\n",
       ".hoogle-name {\n",
       "color: green;\n",
       "font-weight: bold;\n",
       "}\n",
       ".hoogle-head {\n",
       "font-weight: bold;\n",
       "}\n",
       ".hoogle-sub {\n",
       "display: block;\n",
       "margin-left: 0.4em;\n",
       "}\n",
       ".hoogle-package {\n",
       "font-weight: bold;\n",
       "font-style: italic;\n",
       "}\n",
       ".hoogle-module {\n",
       "font-weight: bold;\n",
       "}\n",
       ".hoogle-class {\n",
       "font-weight: bold;\n",
       "}\n",
       ".get-type {\n",
       "color: green;\n",
       "font-weight: bold;\n",
       "font-family: monospace;\n",
       "display: block;\n",
       "white-space: pre-wrap;\n",
       "}\n",
       ".show-type {\n",
       "color: green;\n",
       "font-weight: bold;\n",
       "font-family: monospace;\n",
       "margin-left: 1em;\n",
       "}\n",
       ".mono {\n",
       "font-family: monospace;\n",
       "display: block;\n",
       "}\n",
       ".err-msg {\n",
       "color: red;\n",
       "font-style: italic;\n",
       "font-family: monospace;\n",
       "white-space: pre;\n",
       "display: block;\n",
       "}\n",
       "#unshowable {\n",
       "color: red;\n",
       "font-weight: bold;\n",
       "}\n",
       ".err-msg.in.collapse {\n",
       "padding-top: 0.7em;\n",
       "}\n",
       ".highlight-code {\n",
       "white-space: pre;\n",
       "font-family: monospace;\n",
       "}\n",
       ".suggestion-warning { \n",
       "font-weight: bold;\n",
       "color: rgb(200, 130, 0);\n",
       "}\n",
       ".suggestion-error { \n",
       "font-weight: bold;\n",
       "color: red;\n",
       "}\n",
       ".suggestion-name {\n",
       "font-weight: bold;\n",
       "}\n",
       "</style><span class='get-type'>addVectors :: (Double, Double) -> (Double, Double) -> (Double, Double)</span>"
      ],
      "text/plain": [
       "addVectors :: (Double, Double) -> (Double, Double) -> (Double, Double)"
      ]
     },
     "metadata": {},
     "output_type": "display_data"
    }
   ],
   "source": [
    ":t addVectors"
   ]
  },
  {
   "cell_type": "code",
   "execution_count": 14,
   "metadata": {
    "collapsed": true
   },
   "outputs": [],
   "source": [
    "first :: (a, b, c) -> a\n",
    "first (x, _, _) = x"
   ]
  },
  {
   "cell_type": "code",
   "execution_count": 16,
   "metadata": {
    "collapsed": false
   },
   "outputs": [],
   "source": [
    "second :: (a, b, c) -> b\n",
    "second (_, x, _) = x"
   ]
  },
  {
   "cell_type": "code",
   "execution_count": 17,
   "metadata": {
    "collapsed": true
   },
   "outputs": [],
   "source": [
    "third :: (a, b, c) -> c\n",
    "third (_, _, x) = x"
   ]
  },
  {
   "cell_type": "code",
   "execution_count": 18,
   "metadata": {
    "collapsed": false
   },
   "outputs": [
    {
     "data": {
      "text/plain": [
       "[4,7,6,8,11,4]"
      ]
     },
     "metadata": {},
     "output_type": "display_data"
    }
   ],
   "source": [
    "-- 对list使用模式匹配\n",
    "-- 列表推导中如果匹配失败会continue到下一个元素\n",
    "let xs = [(1, 3), (4, 3), (2,4), (5,3), (5,6), (3,1)]\n",
    "[a+b | (a,b) <- xs]"
   ]
  },
  {
   "cell_type": "code",
   "execution_count": 20,
   "metadata": {
    "collapsed": false
   },
   "outputs": [],
   "source": [
    "head':: [a] -> a\n",
    "head' [] = error \"cannot call on empty list\"\n",
    "-- 绑定多个变量需要用 `()`，不然无法识别\n",
    "head' (x:_) = x"
   ]
  },
  {
   "cell_type": "code",
   "execution_count": 21,
   "metadata": {
    "collapsed": false
   },
   "outputs": [
    {
     "data": {
      "text/plain": [
       "4"
      ]
     },
     "metadata": {},
     "output_type": "display_data"
    }
   ],
   "source": [
    "head' [4, 5, 6]"
   ]
  },
  {
   "cell_type": "code",
   "execution_count": 22,
   "metadata": {
    "collapsed": false
   },
   "outputs": [
    {
     "data": {
      "text/plain": [
       "'h'"
      ]
     },
     "metadata": {},
     "output_type": "display_data"
    }
   ],
   "source": [
    "head' \"hello\""
   ]
  },
  {
   "cell_type": "code",
   "execution_count": 24,
   "metadata": {
    "collapsed": false
   },
   "outputs": [],
   "source": [
    "tell :: (Show a) => [a] -> String\n",
    "tell [] = \"empty\"\n",
    "tell (x:[]) = \"one item\"\n",
    "tell (x:y:[]) = \"two item\"\n",
    "tell (x:y:z:[]) = \"three item\""
   ]
  },
  {
   "cell_type": "code",
   "execution_count": 25,
   "metadata": {
    "collapsed": false
   },
   "outputs": [
    {
     "data": {
      "text/plain": [
       "\"one item\""
      ]
     },
     "metadata": {},
     "output_type": "display_data"
    }
   ],
   "source": [
    "tell [1]"
   ]
  },
  {
   "cell_type": "code",
   "execution_count": 26,
   "metadata": {
    "collapsed": false
   },
   "outputs": [
    {
     "data": {
      "text/plain": [
       "\"two item\""
      ]
     },
     "metadata": {},
     "output_type": "display_data"
    }
   ],
   "source": [
    "tell [True, False]"
   ]
  },
  {
   "cell_type": "code",
   "execution_count": 27,
   "metadata": {
    "collapsed": false
   },
   "outputs": [
    {
     "data": {
      "text/plain": [
       "\"empty\""
      ]
     },
     "metadata": {},
     "output_type": "display_data"
    }
   ],
   "source": [
    "tell []"
   ]
  },
  {
   "cell_type": "code",
   "execution_count": 28,
   "metadata": {
    "collapsed": true
   },
   "outputs": [],
   "source": [
    "-- 列表模式匹配中无法私用 ++, 因为无法判断两边长度"
   ]
  },
  {
   "cell_type": "code",
   "execution_count": 31,
   "metadata": {
    "collapsed": false
   },
   "outputs": [
    {
     "data": {
      "text/plain": [
       "\"first: h.all: hell world\""
      ]
     },
     "metadata": {},
     "output_type": "display_data"
    }
   ],
   "source": [
    "-- as 模式.用来在模式匹配中保留对整体值的引用\n",
    "firstletter :: String -> String\n",
    "firstletter \"\" = \"Empty strings.\"\n",
    "firstletter all@(x:xs) = \"first: \" ++ [x] ++ \".all: \" ++ all\n",
    "firstletter \"hell world\""
   ]
  },
  {
   "cell_type": "code",
   "execution_count": null,
   "metadata": {
    "collapsed": true
   },
   "outputs": [],
   "source": [
    "-- 哨兵. 第一个哨兵和函数参数之间没有 ｀＝`\n",
    "-- 模式用来检查参数结构。哨兵可以进一步检查参数性质\n",
    "-- 注意 | 要求对齐，不然无法识别. | 要缩进四个空格\n",
    "-- otherwise 作为万能条件. 类似case.default\n",
    "bmiTell :: Double -> String\n",
    "bmiTell bmi\n",
    "    | bmi <= 18.5 = \"you'are thin\"\n",
    "    | bmi <= 25.0 = \"you'are normal\"\n",
    "    | bmi <= 30.0 = \"you are fat\"\n",
    "    | otherwise = \"you are whalt\""
   ]
  },
  {
   "cell_type": "code",
   "execution_count": 34,
   "metadata": {
    "collapsed": false
   },
   "outputs": [
    {
     "data": {
      "text/plain": [
       "\"you are nomral\""
      ]
     },
     "metadata": {},
     "output_type": "display_data"
    }
   ],
   "source": [
    "-- 多参数哨兵\n",
    "bmiTell :: Double -> Double -> String\n",
    "bmiTell weight height\n",
    "    | weight / height ^ 2 <= 18.5 = \"you are thin\"\n",
    "    | weight / height ^ 2 <= 25.0 = \"you are nomral\"\n",
    "    | weight / height ^ 2 <= 30.0 = \"you are fat\"\n",
    "    | otherwise = \"youare whalt\"\n",
    "bmiTell 85 1.90"
   ]
  },
  {
   "cell_type": "code",
   "execution_count": 35,
   "metadata": {
    "collapsed": true
   },
   "outputs": [],
   "source": [
    "max' :: (Ord a) => a -> a -> a\n",
    "max' a b\n",
    "    | a < b = b\n",
    "    | otherwise = a"
   ]
  },
  {
   "cell_type": "code",
   "execution_count": 36,
   "metadata": {
    "collapsed": true
   },
   "outputs": [],
   "source": [
    "-- 使用``直接定义中缀函数\n",
    "myCompare :: (Ord a) => a -> a -> Ordering\n",
    "a `myCompare` b\n",
    "    | a == b = EQ\n",
    "    | a > b = GT\n",
    "    | a < b = LT"
   ]
  },
  {
   "cell_type": "code",
   "execution_count": 38,
   "metadata": {
    "collapsed": false
   },
   "outputs": [],
   "source": [
    "-- 函数之后使用where绑定名字（类似常量)\n",
    "-- 只能在当前模式下使用.用来保存中间结果\n",
    "bmiTell :: Double -> Double -> String\n",
    "bmiTell weight height\n",
    "    | weight / height ^ 2 <= 18.5 = \"thin\"\n",
    "    | weight / height ^ 2 <= 25.0 = \"normal\"\n",
    "    | weight / height ^ 2 <= 30.0 = \"fat\"\n",
    "    | otherwise = \"whalt\""
   ]
  },
  {
   "cell_type": "code",
   "execution_count": 40,
   "metadata": {
    "collapsed": false
   },
   "outputs": [],
   "source": [
    "-- 使用where避免重复计算\n",
    "bmiTell :: Double -> Double -> String\n",
    "bmiTell weight height\n",
    "    | bmi <= 18.5 = \"thine\"\n",
    "    | bmi <= 25.0 = \"normal\"\n",
    "    | bmi <= 30.0 = \"fat\"\n",
    "    | otherwise = \"whalt\"\n",
    "    where bmi = weight / height ^ 2"
   ]
  },
  {
   "cell_type": "code",
   "execution_count": 42,
   "metadata": {
    "collapsed": false
   },
   "outputs": [],
   "source": [
    "-- take where go farward\n",
    "-- where绑定多个常量需要保持对齐`\n",
    "bmiTell :: Double -> Double -> String\n",
    "bmiTell weight height\n",
    "    | bmi <= thin = \"thin\"\n",
    "    | bmi <= normal = \"normal\"\n",
    "    | bmi <= fat = \"fat\"\n",
    "    | otherwise = \"whalt\"\n",
    "    where bmi = weight / height ^ 2\n",
    "          thin = 18.5\n",
    "          normal = 25.0\n",
    "          fat = 39.0"
   ]
  },
  {
   "cell_type": "code",
   "execution_count": 43,
   "metadata": {
    "collapsed": true
   },
   "outputs": [],
   "source": [
    "-- where只再本模式可用，要跨多个模式需要使用全局定义\n",
    "badGreeting :: String\n",
    "badGreeting = \"it is you\"\n",
    "\n",
    "niceGreeting :: String\n",
    "niceGreeting = \"nice to see you\"\n",
    "\n",
    "greet :: String -> String\n",
    "greet \"Juan\" = niceGreeting ++ \"Juan\"\n",
    "greet \"Fern\" = niceGreeting ++ \"Fern\"\n",
    "greet name = badGreeting ++ name"
   ]
  },
  {
   "cell_type": "code",
   "execution_count": 44,
   "metadata": {
    "collapsed": true
   },
   "outputs": [],
   "source": [
    "-- where中也可以使用模式匹配\n",
    "bmiTell weight height\n",
    "    | bmi <= thin = \"thin\"\n",
    "    | bmi <= normal = \"normal\"\n",
    "    | bmi <= fat = \"fat\"\n",
    "    | otherwise = \"whalt\"\n",
    "    where bmi = weight / height ^ 2\n",
    "          (thin, normal, fat) = (18.5, 25.0, 30.0)"
   ]
  },
  {
   "cell_type": "code",
   "execution_count": 45,
   "metadata": {
    "collapsed": true
   },
   "outputs": [],
   "source": [
    "initial :: String -> String -> String\n",
    "initial firstname lastname = [f] ++ \". \" ++ [l] ++ \".\"\n",
    "    where (f:_) = firstname\n",
    "          (l:_) = lastname"
   ]
  },
  {
   "cell_type": "code",
   "execution_count": 46,
   "metadata": {
    "collapsed": true
   },
   "outputs": [],
   "source": [
    "-- 可以在where中定义函数\n",
    "calBmis :: [(Double, Double)] -> [Double]\n",
    "calBmis xs = [bmi w h | (w, h) <- xs]\n",
    "    where bmi weight height = weight / height ^ 2"
   ]
  },
  {
   "cell_type": "code",
   "execution_count": 48,
   "metadata": {
    "collapsed": false
   },
   "outputs": [
    {
     "data": {
      "text/plain": [
       "1884.9555921538758"
      ]
     },
     "metadata": {},
     "output_type": "display_data"
    }
   ],
   "source": [
    "-- let 用于绑定定义.\n",
    "-- 单独let只能在ghci中使用.\n",
    "-- let...in.., 定义只在in中有效\n",
    "-- let是个表达式，会返回值，可以在所有地方使用，不像where\n",
    "cylinder :: Double -> Double -> Double\n",
    "cylinder r h =\n",
    "    let sideArea = 2 * pi * r * h\n",
    "        topArea = pi * r ^ 2\n",
    "    in sideArea + 2 * topArea\n",
    "    \n",
    "cylinder 10.0 20"
   ]
  },
  {
   "cell_type": "code",
   "execution_count": 50,
   "metadata": {
    "collapsed": false
   },
   "outputs": [
    {
     "data": {
      "text/plain": [
       "42"
      ]
     },
     "metadata": {},
     "output_type": "display_data"
    }
   ],
   "source": [
    "4 * (let a = 9 in a + 1) + 2"
   ]
  },
  {
   "cell_type": "code",
   "execution_count": 51,
   "metadata": {
    "collapsed": false
   },
   "outputs": [
    {
     "data": {
      "text/plain": [
       "[(25,9,4)]"
      ]
     },
     "metadata": {},
     "output_type": "display_data"
    }
   ],
   "source": [
    "-- let常用\n",
    "-- 在局部作用与定义函数\n",
    "[let square x = x * x in (square 5, square 3, square 2)]"
   ]
  },
  {
   "cell_type": "code",
   "execution_count": 52,
   "metadata": {
    "collapsed": false
   },
   "outputs": [
    {
     "data": {
      "text/plain": [
       "(6000000,\"heythere\")"
      ]
     },
     "metadata": {},
     "output_type": "display_data"
    }
   ],
   "source": [
    "-- 绑定多个定义需要使用 ;\n",
    "(let a = 100; b = 200; c = 300 in a*b*c, let foo=\"hey\";bar=\"there\" in foo ++ bar)"
   ]
  },
  {
   "cell_type": "code",
   "execution_count": 53,
   "metadata": {
    "collapsed": false
   },
   "outputs": [
    {
     "data": {
      "text/plain": [
       "600"
      ]
     },
     "metadata": {},
     "output_type": "display_data"
    }
   ],
   "source": [
    "-- 从tuple中解item\n",
    "(let (a,b,c) = (1,2,3) in a+b+c)* 100"
   ]
  },
  {
   "cell_type": "code",
   "execution_count": 55,
   "metadata": {
    "collapsed": false
   },
   "outputs": [],
   "source": [
    "-- 在列表推导中使用let\n",
    "calBmis :: [(Double, Double)] -> [Double]\n",
    "calBmis xs = [bmi | (w, h) <- xs, let bmi = w /h * 2]"
   ]
  },
  {
   "cell_type": "code",
   "execution_count": 56,
   "metadata": {
    "collapsed": true
   },
   "outputs": [],
   "source": [
    "-- case表达式,类似swtich, 是一个表达式可用在任何地方\n",
    "-- 模式匹配是case的语法糖\n",
    "head' :: [a] -> a\n",
    "head' xs = case xs of [] -> error \"not empty me\"\n",
    "                      (x:_) -> x"
   ]
  },
  {
   "cell_type": "code",
   "execution_count": 57,
   "metadata": {
    "collapsed": true
   },
   "outputs": [],
   "source": [
    "desc :: [a] -> String\n",
    "desc ls = \"list is \" ++ case ls of [] -> \"empty\"\n",
    "                                   [x] -> \"signle\"\n",
    "                                   xs -> \"longer list\""
   ]
  },
  {
   "cell_type": "code",
   "execution_count": 58,
   "metadata": {
    "collapsed": true
   },
   "outputs": [],
   "source": [
    "desc' :: [a] -> String\n",
    "desc' ls = \"list is \" ++ what ls\n",
    "    where what [] = \"empty\"\n",
    "          what [x] = \"single\"\n",
    "          what xs = \"longger list\""
   ]
  }
 ],
 "metadata": {
  "kernelspec": {
   "display_name": "Haskell",
   "language": "haskell",
   "name": "haskell"
  },
  "language_info": {
   "codemirror_mode": "ihaskell",
   "file_extension": ".hs",
   "name": "haskell",
   "version": "7.10.3"
  }
 },
 "nbformat": 4,
 "nbformat_minor": 0
}
